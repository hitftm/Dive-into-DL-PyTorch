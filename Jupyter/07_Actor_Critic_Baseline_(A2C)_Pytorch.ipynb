{
  "nbformat": 4,
  "nbformat_minor": 0,
  "metadata": {
    "colab": {
      "name": "Actor-Critic  Baseline (A2C) Pytorch.ipynb",
      "provenance": [],
      "collapsed_sections": []
    },
    "kernelspec": {
      "name": "python3",
      "display_name": "Python 3"
    }
  },
  "cells": [
    {
      "cell_type": "code",
      "metadata": {
        "id": "beBt7Eu2t658",
        "colab_type": "code",
        "colab": {
          "base_uri": "https://localhost:8080/",
          "height": 35
        },
        "outputId": "74da4cd5-2694-4034-f3fe-d37810ddbec6"
      },
      "source": [
        "from google.colab import drive\n",
        "drive.mount('/content/drive')"
      ],
      "execution_count": 2,
      "outputs": [
        {
          "output_type": "stream",
          "text": [
            "Drive already mounted at /content/drive; to attempt to forcibly remount, call drive.mount(\"/content/drive\", force_remount=True).\n"
          ],
          "name": "stdout"
        }
      ]
    },
    {
      "cell_type": "code",
      "metadata": {
        "id": "hycY-m4Dt9es",
        "colab_type": "code",
        "colab": {}
      },
      "source": [
        "import sys\n",
        "if \"/content/drive/My Drive/Machine Learning/lib/\" not in sys.path:\n",
        "    sys.path.append(\"/content/drive/My Drive/Machine Learning/lib/\")"
      ],
      "execution_count": 3,
      "outputs": []
    },
    {
      "cell_type": "code",
      "metadata": {
        "id": "NV3Qqq90uDqj",
        "colab_type": "code",
        "colab": {
          "base_uri": "https://localhost:8080/",
          "height": 35
        },
        "outputId": "64fd81db-f907-4a36-86e8-1e7131da6636"
      },
      "source": [
        "from gym.envs.toy_text import CliffWalkingEnv\n",
        "import plotting\n",
        "\n",
        "import gym\n",
        "import math\n",
        "import numpy as np\n",
        "import random\n",
        "import itertools\n",
        "from collections import namedtuple, defaultdict\n",
        "\n",
        "import torch\n",
        "import torch.nn as nn\n",
        "import torch.optim as optim\n",
        "import torch.nn.functional as F\n",
        "\n",
        "import matplotlib.pyplot as plt\n",
        "%matplotlib inline\n",
        "\n",
        "device = torch.device('cuda' if torch.cuda.is_available() else 'cpu')\n",
        "device"
      ],
      "execution_count": 4,
      "outputs": [
        {
          "output_type": "execute_result",
          "data": {
            "text/plain": [
              "device(type='cpu')"
            ]
          },
          "metadata": {
            "tags": []
          },
          "execution_count": 4
        }
      ]
    },
    {
      "cell_type": "markdown",
      "metadata": {
        "id": "YZuDqyeiuGtx",
        "colab_type": "text"
      },
      "source": [
        "## 测试环境"
      ]
    },
    {
      "cell_type": "code",
      "metadata": {
        "id": "09AF1PqzuEzB",
        "colab_type": "code",
        "colab": {}
      },
      "source": [
        "env = CliffWalkingEnv()"
      ],
      "execution_count": 5,
      "outputs": []
    },
    {
      "cell_type": "code",
      "metadata": {
        "id": "3JDH3TMkuIEy",
        "colab_type": "code",
        "colab": {}
      },
      "source": [
        "def get_screen(state):\n",
        "    \"\"\"这里我们就用state来作为例子, 不直接使用截图了, 将编号转换为one-hot向量, 共48维\n",
        "    \"\"\"\n",
        "    y_state = torch.Tensor([[state]]).long()\n",
        "    y_onehot = torch.FloatTensor(1, 48) # 产生位置\n",
        "    # In your for loop\n",
        "    y_onehot.zero_() # 全部使用0进行填充\n",
        "    y_onehot.scatter_(1, y_state, 1) # 返回one-hot\n",
        "    return y_onehot"
      ],
      "execution_count": 6,
      "outputs": []
    },
    {
      "cell_type": "code",
      "metadata": {
        "id": "oor0aiMtuKCC",
        "colab_type": "code",
        "colab": {
          "base_uri": "https://localhost:8080/",
          "height": 71
        },
        "outputId": "72561f92-1b51-4cd5-973e-f96151987b73"
      },
      "source": [
        "get_screen(1)"
      ],
      "execution_count": 7,
      "outputs": [
        {
          "output_type": "execute_result",
          "data": {
            "text/plain": [
              "tensor([[0., 1., 0., 0., 0., 0., 0., 0., 0., 0., 0., 0., 0., 0., 0., 0., 0., 0.,\n",
              "         0., 0., 0., 0., 0., 0., 0., 0., 0., 0., 0., 0., 0., 0., 0., 0., 0., 0.,\n",
              "         0., 0., 0., 0., 0., 0., 0., 0., 0., 0., 0., 0.]])"
            ]
          },
          "metadata": {
            "tags": []
          },
          "execution_count": 7
        }
      ]
    },
    {
      "cell_type": "markdown",
      "metadata": {
        "id": "83za3uTKuQJt",
        "colab_type": "text"
      },
      "source": [
        "## 建立模型"
      ]
    },
    {
      "cell_type": "code",
      "metadata": {
        "id": "XrzFu7X6uO4b",
        "colab_type": "code",
        "colab": {}
      },
      "source": [
        "class ActorCriticModel(nn.Module):\n",
        "    def __init__(self):\n",
        "        super(ActorCriticModel, self).__init__()\n",
        "        self.fc1 = nn.Linear(48, 24)\n",
        "        self.fc2 = nn.Linear(24, 12)\n",
        "        self.action = nn.Linear(12, 4)\n",
        "        self.value = nn.Linear(12, 1)\n",
        "    def forward(self, x):\n",
        "        x = F.relu(self.fc1(x))\n",
        "        x = F.relu(self.fc2(x))\n",
        "        action_probs = F.softmax(self.action(x), dim=-1)\n",
        "        state_values = self.value(x)\n",
        "        return action_probs, state_values"
      ],
      "execution_count": 24,
      "outputs": []
    },
    {
      "cell_type": "code",
      "metadata": {
        "id": "wgEGy1oyynKQ",
        "colab_type": "code",
        "colab": {
          "base_uri": "https://localhost:8080/",
          "height": 53
        },
        "outputId": "301b6185-3c9d-4b59-ddb6-deafdd08a43f"
      },
      "source": [
        "ac = ActorCriticModel()\n",
        "action_probs, state_values = ac(get_screen(1).squeeze(0))\n",
        "print(action_probs)\n",
        "print(state_values)"
      ],
      "execution_count": 25,
      "outputs": [
        {
          "output_type": "stream",
          "text": [
            "tensor([0.2140, 0.3271, 0.2130, 0.2459], grad_fn=<SoftmaxBackward>)\n",
            "tensor([-0.3331], grad_fn=<AddBackward0>)\n"
          ],
          "name": "stdout"
        }
      ]
    },
    {
      "cell_type": "code",
      "metadata": {
        "id": "Lh6Qn0PKdeA4",
        "colab_type": "code",
        "colab": {
          "base_uri": "https://localhost:8080/",
          "height": 53
        },
        "outputId": "8ef687c0-5ebb-4c87-a381-feb7cc065664"
      },
      "source": [
        "ac = ActorCriticModel()\n",
        "action_probs, state_values = ac(get_screen(1))\n",
        "print(action_probs)\n",
        "print(state_values)"
      ],
      "execution_count": 26,
      "outputs": [
        {
          "output_type": "stream",
          "text": [
            "tensor([[0.2368, 0.2305, 0.2719, 0.2608]], grad_fn=<SoftmaxBackward>)\n",
            "tensor([[-0.3603]], grad_fn=<AddmmBackward>)\n"
          ],
          "name": "stdout"
        }
      ]
    },
    {
      "cell_type": "code",
      "metadata": {
        "id": "qA02f4ZYahsd",
        "colab_type": "code",
        "colab": {}
      },
      "source": [
        "from torchsummary import summary"
      ],
      "execution_count": 19,
      "outputs": []
    },
    {
      "cell_type": "code",
      "metadata": {
        "id": "A6yyHy0qaRuf",
        "colab_type": "code",
        "colab": {
          "base_uri": "https://localhost:8080/",
          "height": 323
        },
        "outputId": "38acd636-e5a5-441d-b5f0-fc309e935784"
      },
      "source": [
        "summary(ac, get_screen(1).size())"
      ],
      "execution_count": 23,
      "outputs": [
        {
          "output_type": "stream",
          "text": [
            "----------------------------------------------------------------\n",
            "        Layer (type)               Output Shape         Param #\n",
            "================================================================\n",
            "            Linear-1                [-1, 1, 24]           1,176\n",
            "            Linear-2                [-1, 1, 12]             300\n",
            "            Linear-3                 [-1, 1, 4]              52\n",
            "            Linear-4                 [-1, 1, 1]              13\n",
            "================================================================\n",
            "Total params: 1,541\n",
            "Trainable params: 1,541\n",
            "Non-trainable params: 0\n",
            "----------------------------------------------------------------\n",
            "Input size (MB): 0.00\n",
            "Forward/backward pass size (MB): 0.00\n",
            "Params size (MB): 0.01\n",
            "Estimated Total Size (MB): 0.01\n",
            "----------------------------------------------------------------\n"
          ],
          "name": "stdout"
        }
      ]
    },
    {
      "cell_type": "markdown",
      "metadata": {
        "id": "2KOaxwTKueeQ",
        "colab_type": "text"
      },
      "source": [
        "## 开始训练"
      ]
    },
    {
      "cell_type": "code",
      "metadata": {
        "id": "pSI3H2a9ubgv",
        "colab_type": "code",
        "colab": {}
      },
      "source": [
        "def trainIters(env, ActorCriticModel, num_episodes, gamma = 0.9):\n",
        "    optimizer = torch.optim.Adam(ActorCriticModel.parameters(), 0.03) # 注意学习率的大小\n",
        "    scheduler = torch.optim.lr_scheduler.StepLR(optimizer, step_size=10, gamma=0.9)\n",
        "\n",
        "    # 记录reward和总长度的变化\n",
        "    stats = plotting.EpisodeStats(\n",
        "        episode_lengths=np.zeros(num_episodes+1),\n",
        "        episode_rewards=np.zeros(num_episodes+1))\n",
        "\n",
        "    for i_episode in range(1, num_episodes+1):\n",
        "        # 开始一轮游戏\n",
        "        state = env.reset() # 环境重置\n",
        "        state = get_screen(state) # 将state转换为one-hot的tensor, 用作网络的输入.\n",
        "\n",
        "        log_probs = []\n",
        "        rewards = []\n",
        "        state_values = []\n",
        "\n",
        "        for t in itertools.count():\n",
        "            action_probs, state_value = ActorCriticModel(state.squeeze(0)) # 返回当前state下不同action的概率\n",
        "\n",
        "            action = torch.multinomial(action_probs, 1).item() # 选取一个action\n",
        "            log_prob = torch.log(action_probs[action])\n",
        "            next_state, reward, done, _ = env.step(action) # 获得下一个状态\n",
        "\n",
        "            # 计算统计数据\n",
        "            stats.episode_rewards[i_episode] += reward # 计算累计奖励\n",
        "            stats.episode_lengths[i_episode] = t # 查看每一轮的时间\n",
        "\n",
        "            # 将值转换为tensor\n",
        "            reward = torch.tensor([reward], device=device)\n",
        "            next_state_tensor = get_screen(next_state)\n",
        "\n",
        "            # 将信息存入List\n",
        "            log_probs.append(log_prob.view(-1))\n",
        "            rewards.append(reward)\n",
        "            state_values.append(state_value)\n",
        "\n",
        "            # 状态更新\n",
        "            state = next_state_tensor\n",
        "\n",
        "            if done: # 当一轮结束之后, 开始更新\n",
        "                returns = []\n",
        "\n",
        "                Gt = 0\n",
        "                pw = 0\n",
        "\n",
        "                # print(rewards)\n",
        "                for reward in rewards[::-1]:\n",
        "                    Gt = Gt + (gamma ** pw) * reward # 写成Gt += (gamma ** pw) * reward, 最后returns里东西都是一样的\n",
        "                    # print(Gt)\n",
        "                    pw += 1\n",
        "                    returns.append(Gt)\n",
        "\n",
        "                returns = returns[::-1]\n",
        "\n",
        "                returns = torch.cat(returns)\n",
        "                returns = (returns - returns.mean()) / (returns.std() + 1e-9)\n",
        "                # print(returns)\n",
        "                log_probs = torch.cat(log_probs)\n",
        "                state_values = torch.cat(state_values)\n",
        "\n",
        "                # print(returns)\n",
        "                # print(log_probs)\n",
        "                # print(state_values)\n",
        "\n",
        "                advantage = returns.detach() - state_values\n",
        "\n",
        "                critic_loss = F.smooth_l1_loss(state_values, returns.detach())\n",
        "                actor_loss = (-log_probs * advantage.detach()).mean()\n",
        "                loss = critic_loss + actor_loss\n",
        "\n",
        "                # 更新critic\n",
        "                optimizer.zero_grad()\n",
        "                loss.backward()\n",
        "                optimizer.step()\n",
        "\n",
        "                print('Episode: {}, total steps: {}'.format(i_episode, t))\n",
        "\n",
        "                if t>20:\n",
        "                    scheduler.step()\n",
        "\n",
        "                break \n",
        "        \n",
        "    return stats"
      ],
      "execution_count": 43,
      "outputs": []
    },
    {
      "cell_type": "code",
      "metadata": {
        "id": "xG5IRlitvyd-",
        "colab_type": "code",
        "colab": {
          "base_uri": "https://localhost:8080/",
          "height": 1000
        },
        "outputId": "348ae5db-4d62-45a6-9887-257ae3ef3b6f"
      },
      "source": [
        "ActorCritic = ActorCriticModel()\n",
        "stats = trainIters(env, ActorCritic, 300)"
      ],
      "execution_count": 44,
      "outputs": [
        {
          "output_type": "stream",
          "text": [
            "Episode: 1, total steps: 55594\n",
            "Episode: 2, total steps: 1822\n",
            "Episode: 3, total steps: 49070\n",
            "Episode: 4, total steps: 3906\n",
            "Episode: 5, total steps: 12185\n",
            "Episode: 6, total steps: 6338\n",
            "Episode: 7, total steps: 23314\n",
            "Episode: 8, total steps: 397\n",
            "Episode: 9, total steps: 5815\n",
            "Episode: 10, total steps: 648\n",
            "Episode: 11, total steps: 547\n",
            "Episode: 12, total steps: 652\n",
            "Episode: 13, total steps: 126\n",
            "Episode: 14, total steps: 106\n",
            "Episode: 15, total steps: 76\n",
            "Episode: 16, total steps: 59\n",
            "Episode: 17, total steps: 55\n",
            "Episode: 18, total steps: 317\n",
            "Episode: 19, total steps: 46\n",
            "Episode: 20, total steps: 27\n",
            "Episode: 21, total steps: 144\n",
            "Episode: 22, total steps: 35\n",
            "Episode: 23, total steps: 74\n",
            "Episode: 24, total steps: 103\n",
            "Episode: 25, total steps: 106\n",
            "Episode: 26, total steps: 76\n",
            "Episode: 27, total steps: 57\n",
            "Episode: 28, total steps: 28\n",
            "Episode: 29, total steps: 35\n",
            "Episode: 30, total steps: 27\n",
            "Episode: 31, total steps: 18\n",
            "Episode: 32, total steps: 42\n",
            "Episode: 33, total steps: 28\n",
            "Episode: 34, total steps: 16\n",
            "Episode: 35, total steps: 28\n",
            "Episode: 36, total steps: 19\n",
            "Episode: 37, total steps: 72\n",
            "Episode: 38, total steps: 31\n",
            "Episode: 39, total steps: 18\n",
            "Episode: 40, total steps: 24\n",
            "Episode: 41, total steps: 35\n",
            "Episode: 42, total steps: 32\n",
            "Episode: 43, total steps: 21\n",
            "Episode: 44, total steps: 30\n",
            "Episode: 45, total steps: 38\n",
            "Episode: 46, total steps: 33\n",
            "Episode: 47, total steps: 29\n",
            "Episode: 48, total steps: 47\n",
            "Episode: 49, total steps: 20\n",
            "Episode: 50, total steps: 33\n",
            "Episode: 51, total steps: 42\n",
            "Episode: 52, total steps: 71\n",
            "Episode: 53, total steps: 24\n",
            "Episode: 54, total steps: 19\n",
            "Episode: 55, total steps: 31\n",
            "Episode: 56, total steps: 31\n",
            "Episode: 57, total steps: 17\n",
            "Episode: 58, total steps: 26\n",
            "Episode: 59, total steps: 35\n",
            "Episode: 60, total steps: 14\n",
            "Episode: 61, total steps: 18\n",
            "Episode: 62, total steps: 26\n",
            "Episode: 63, total steps: 18\n",
            "Episode: 64, total steps: 20\n",
            "Episode: 65, total steps: 27\n",
            "Episode: 66, total steps: 12\n",
            "Episode: 67, total steps: 22\n",
            "Episode: 68, total steps: 14\n",
            "Episode: 69, total steps: 21\n",
            "Episode: 70, total steps: 16\n",
            "Episode: 71, total steps: 12\n",
            "Episode: 72, total steps: 13\n",
            "Episode: 73, total steps: 29\n",
            "Episode: 74, total steps: 21\n",
            "Episode: 75, total steps: 24\n",
            "Episode: 76, total steps: 24\n",
            "Episode: 77, total steps: 21\n",
            "Episode: 78, total steps: 12\n",
            "Episode: 79, total steps: 44\n",
            "Episode: 80, total steps: 26\n",
            "Episode: 81, total steps: 17\n",
            "Episode: 82, total steps: 17\n",
            "Episode: 83, total steps: 19\n",
            "Episode: 84, total steps: 19\n",
            "Episode: 85, total steps: 31\n",
            "Episode: 86, total steps: 19\n",
            "Episode: 87, total steps: 17\n",
            "Episode: 88, total steps: 13\n",
            "Episode: 89, total steps: 17\n",
            "Episode: 90, total steps: 19\n",
            "Episode: 91, total steps: 18\n",
            "Episode: 92, total steps: 14\n",
            "Episode: 93, total steps: 12\n",
            "Episode: 94, total steps: 27\n",
            "Episode: 95, total steps: 12\n",
            "Episode: 96, total steps: 14\n",
            "Episode: 97, total steps: 12\n",
            "Episode: 98, total steps: 23\n",
            "Episode: 99, total steps: 13\n",
            "Episode: 100, total steps: 13\n",
            "Episode: 101, total steps: 21\n",
            "Episode: 102, total steps: 12\n",
            "Episode: 103, total steps: 25\n",
            "Episode: 104, total steps: 12\n",
            "Episode: 105, total steps: 14\n",
            "Episode: 106, total steps: 16\n",
            "Episode: 107, total steps: 13\n",
            "Episode: 108, total steps: 21\n",
            "Episode: 109, total steps: 16\n",
            "Episode: 110, total steps: 16\n",
            "Episode: 111, total steps: 16\n",
            "Episode: 112, total steps: 20\n",
            "Episode: 113, total steps: 20\n",
            "Episode: 114, total steps: 15\n",
            "Episode: 115, total steps: 20\n",
            "Episode: 116, total steps: 18\n",
            "Episode: 117, total steps: 12\n",
            "Episode: 118, total steps: 12\n",
            "Episode: 119, total steps: 18\n",
            "Episode: 120, total steps: 21\n",
            "Episode: 121, total steps: 16\n",
            "Episode: 122, total steps: 14\n",
            "Episode: 123, total steps: 14\n",
            "Episode: 124, total steps: 17\n",
            "Episode: 125, total steps: 17\n",
            "Episode: 126, total steps: 14\n",
            "Episode: 127, total steps: 17\n",
            "Episode: 128, total steps: 18\n",
            "Episode: 129, total steps: 15\n",
            "Episode: 130, total steps: 14\n",
            "Episode: 131, total steps: 12\n",
            "Episode: 132, total steps: 14\n",
            "Episode: 133, total steps: 43\n",
            "Episode: 134, total steps: 14\n",
            "Episode: 135, total steps: 14\n",
            "Episode: 136, total steps: 17\n",
            "Episode: 137, total steps: 17\n",
            "Episode: 138, total steps: 18\n",
            "Episode: 139, total steps: 17\n",
            "Episode: 140, total steps: 18\n",
            "Episode: 141, total steps: 21\n",
            "Episode: 142, total steps: 24\n",
            "Episode: 143, total steps: 20\n",
            "Episode: 144, total steps: 17\n",
            "Episode: 145, total steps: 14\n",
            "Episode: 146, total steps: 31\n",
            "Episode: 147, total steps: 28\n",
            "Episode: 148, total steps: 18\n",
            "Episode: 149, total steps: 14\n",
            "Episode: 150, total steps: 19\n",
            "Episode: 151, total steps: 19\n",
            "Episode: 152, total steps: 36\n",
            "Episode: 153, total steps: 17\n",
            "Episode: 154, total steps: 19\n",
            "Episode: 155, total steps: 16\n",
            "Episode: 156, total steps: 14\n",
            "Episode: 157, total steps: 17\n",
            "Episode: 158, total steps: 29\n",
            "Episode: 159, total steps: 14\n",
            "Episode: 160, total steps: 16\n",
            "Episode: 161, total steps: 17\n",
            "Episode: 162, total steps: 19\n",
            "Episode: 163, total steps: 16\n",
            "Episode: 164, total steps: 20\n",
            "Episode: 165, total steps: 14\n",
            "Episode: 166, total steps: 21\n",
            "Episode: 167, total steps: 26\n",
            "Episode: 168, total steps: 17\n",
            "Episode: 169, total steps: 18\n",
            "Episode: 170, total steps: 12\n",
            "Episode: 171, total steps: 16\n",
            "Episode: 172, total steps: 36\n",
            "Episode: 173, total steps: 28\n",
            "Episode: 174, total steps: 22\n",
            "Episode: 175, total steps: 17\n",
            "Episode: 176, total steps: 27\n",
            "Episode: 177, total steps: 21\n",
            "Episode: 178, total steps: 24\n",
            "Episode: 179, total steps: 16\n",
            "Episode: 180, total steps: 22\n",
            "Episode: 181, total steps: 18\n",
            "Episode: 182, total steps: 14\n",
            "Episode: 183, total steps: 14\n",
            "Episode: 184, total steps: 16\n",
            "Episode: 185, total steps: 14\n",
            "Episode: 186, total steps: 17\n",
            "Episode: 187, total steps: 23\n",
            "Episode: 188, total steps: 24\n",
            "Episode: 189, total steps: 21\n",
            "Episode: 190, total steps: 19\n",
            "Episode: 191, total steps: 18\n",
            "Episode: 192, total steps: 14\n",
            "Episode: 193, total steps: 14\n",
            "Episode: 194, total steps: 17\n",
            "Episode: 195, total steps: 17\n",
            "Episode: 196, total steps: 17\n",
            "Episode: 197, total steps: 17\n",
            "Episode: 198, total steps: 17\n",
            "Episode: 199, total steps: 16\n",
            "Episode: 200, total steps: 16\n",
            "Episode: 201, total steps: 18\n",
            "Episode: 202, total steps: 16\n",
            "Episode: 203, total steps: 14\n",
            "Episode: 204, total steps: 16\n",
            "Episode: 205, total steps: 14\n",
            "Episode: 206, total steps: 18\n",
            "Episode: 207, total steps: 16\n",
            "Episode: 208, total steps: 14\n",
            "Episode: 209, total steps: 16\n",
            "Episode: 210, total steps: 12\n",
            "Episode: 211, total steps: 12\n",
            "Episode: 212, total steps: 14\n",
            "Episode: 213, total steps: 12\n",
            "Episode: 214, total steps: 17\n",
            "Episode: 215, total steps: 14\n",
            "Episode: 216, total steps: 12\n",
            "Episode: 217, total steps: 12\n",
            "Episode: 218, total steps: 12\n",
            "Episode: 219, total steps: 12\n",
            "Episode: 220, total steps: 12\n",
            "Episode: 221, total steps: 17\n",
            "Episode: 222, total steps: 14\n",
            "Episode: 223, total steps: 12\n",
            "Episode: 224, total steps: 12\n",
            "Episode: 225, total steps: 12\n",
            "Episode: 226, total steps: 12\n",
            "Episode: 227, total steps: 12\n",
            "Episode: 228, total steps: 12\n",
            "Episode: 229, total steps: 12\n",
            "Episode: 230, total steps: 12\n",
            "Episode: 231, total steps: 16\n",
            "Episode: 232, total steps: 21\n",
            "Episode: 233, total steps: 12\n",
            "Episode: 234, total steps: 12\n",
            "Episode: 235, total steps: 12\n",
            "Episode: 236, total steps: 12\n",
            "Episode: 237, total steps: 12\n",
            "Episode: 238, total steps: 12\n",
            "Episode: 239, total steps: 12\n",
            "Episode: 240, total steps: 12\n",
            "Episode: 241, total steps: 12\n",
            "Episode: 242, total steps: 12\n",
            "Episode: 243, total steps: 12\n",
            "Episode: 244, total steps: 12\n",
            "Episode: 245, total steps: 15\n",
            "Episode: 246, total steps: 15\n",
            "Episode: 247, total steps: 12\n",
            "Episode: 248, total steps: 12\n",
            "Episode: 249, total steps: 12\n",
            "Episode: 250, total steps: 12\n",
            "Episode: 251, total steps: 12\n",
            "Episode: 252, total steps: 12\n",
            "Episode: 253, total steps: 12\n",
            "Episode: 254, total steps: 12\n",
            "Episode: 255, total steps: 12\n",
            "Episode: 256, total steps: 12\n",
            "Episode: 257, total steps: 16\n",
            "Episode: 258, total steps: 12\n",
            "Episode: 259, total steps: 12\n",
            "Episode: 260, total steps: 12\n",
            "Episode: 261, total steps: 16\n",
            "Episode: 262, total steps: 18\n",
            "Episode: 263, total steps: 16\n",
            "Episode: 264, total steps: 22\n",
            "Episode: 265, total steps: 23\n",
            "Episode: 266, total steps: 23\n",
            "Episode: 267, total steps: 19\n",
            "Episode: 268, total steps: 19\n",
            "Episode: 269, total steps: 14\n",
            "Episode: 270, total steps: 16\n",
            "Episode: 271, total steps: 18\n",
            "Episode: 272, total steps: 19\n",
            "Episode: 273, total steps: 18\n",
            "Episode: 274, total steps: 16\n",
            "Episode: 275, total steps: 17\n",
            "Episode: 276, total steps: 12\n",
            "Episode: 277, total steps: 16\n",
            "Episode: 278, total steps: 17\n",
            "Episode: 279, total steps: 16\n",
            "Episode: 280, total steps: 19\n",
            "Episode: 281, total steps: 18\n",
            "Episode: 282, total steps: 17\n",
            "Episode: 283, total steps: 16\n",
            "Episode: 284, total steps: 19\n",
            "Episode: 285, total steps: 16\n",
            "Episode: 286, total steps: 17\n",
            "Episode: 287, total steps: 16\n",
            "Episode: 288, total steps: 17\n",
            "Episode: 289, total steps: 16\n",
            "Episode: 290, total steps: 17\n",
            "Episode: 291, total steps: 17\n",
            "Episode: 292, total steps: 16\n",
            "Episode: 293, total steps: 16\n",
            "Episode: 294, total steps: 16\n",
            "Episode: 295, total steps: 12\n",
            "Episode: 296, total steps: 16\n",
            "Episode: 297, total steps: 12\n",
            "Episode: 298, total steps: 12\n",
            "Episode: 299, total steps: 12\n",
            "Episode: 300, total steps: 16\n"
          ],
          "name": "stdout"
        }
      ]
    },
    {
      "cell_type": "code",
      "metadata": {
        "id": "ZmkloFpjv-MS",
        "colab_type": "code",
        "colab": {
          "base_uri": "https://localhost:8080/",
          "height": 1000
        },
        "outputId": "29da78f5-2e5d-4e61-ac96-671efdbf3aa3"
      },
      "source": [
        "plotting.plot_episode_stats(stats)"
      ],
      "execution_count": 45,
      "outputs": [
        {
          "output_type": "display_data",
          "data": {
            "image/png": "[encoded data removed]",
            "text/plain": [
              "<Figure size 720x360 with 1 Axes>"
            ]
          },
          "metadata": {
            "tags": [],
            "needs_background": "light"
          }
        },
        {
          "output_type": "display_data",
          "data": {
            "image/png": "[encoded data removed]",
            "text/plain": [
              "<Figure size 720x360 with 1 Axes>"
            ]
          },
          "metadata": {
            "tags": [],
            "needs_background": "light"
          }
        },
        {
          "output_type": "display_data",
          "data": {
            "image/png": "[encoded data removed]",
            "text/plain": [
              "<Figure size 720x360 with 1 Axes>"
            ]
          },
          "metadata": {
            "tags": [],
            "needs_background": "light"
          }
        },
        {
          "output_type": "execute_result",
          "data": {
            "text/plain": [
              "(<Figure size 720x360 with 1 Axes>,\n",
              " <Figure size 720x360 with 1 Axes>,\n",
              " <Figure size 720x360 with 1 Axes>)"
            ]
          },
          "metadata": {
            "tags": []
          },
          "execution_count": 45
        }
      ]
    },
    {
      "cell_type": "code",
      "metadata": {
        "id": "UJ1UefYi8oyd",
        "colab_type": "code",
        "colab": {}
      },
      "source": [
        ""
      ],
      "execution_count": null,
      "outputs": []
    }
  ]
}